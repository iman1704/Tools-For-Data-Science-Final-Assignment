{
  "nbformat": 4,
  "nbformat_minor": 0,
  "metadata": {
    "colab": {
      "provenance": []
    },
    "kernelspec": {
      "name": "python3",
      "display_name": "Python 3"
    },
    "language_info": {
      "name": "python"
    }
  },
  "cells": [
    {
      "cell_type": "markdown",
      "source": [
        "# Tools For Data Science Final Assignment"
      ],
      "metadata": {
        "id": "36I661c0t57s"
      }
    },
    {
      "cell_type": "markdown",
      "source": [
        "**This markdown cell contain the introduction for this notebook**"
      ],
      "metadata": {
        "id": "p0gaAh1GuJDK"
      }
    },
    {
      "cell_type": "markdown",
      "source": [
        "There are a number of data science languages, *three* of them includes:\n",
        "- Python\n",
        "- R\n",
        "- SQL"
      ],
      "metadata": {
        "id": "tsSfw_WyuYRk"
      }
    },
    {
      "cell_type": "markdown",
      "source": [
        "Data science libraries:\n",
        "- Scientific computing\n",
        "  - Pandas\n",
        "  - Numpy\n",
        "- Visualization\n",
        "  - Matplotlib\n",
        "  - Seaborn\n",
        "- High-Level machine learning\n",
        "  - Scikit-learn\n",
        "  - Keras\n",
        "- Deep learning\n",
        "  - TensorFlow\n",
        "  - PyTorch\n"
      ],
      "metadata": {
        "id": "yqsfxnQfus9R"
      }
    },
    {
      "cell_type": "markdown",
      "source": [
        "| | Open Source | Commercial |\n",
        "| --- | --- | --- |\n",
        " |Data Management| MySqQL | IBM Db2 |\n",
        "| Data integration| Apache Kafka | Oracle |\n",
        "|Model Building| Kibana | SPSS Modeler |\n",
        "| Data asset management| Kubernetes | Informatica |\n",
        "| Model Monitoring | ModelDB | Watson Studio |\n",
        "\n",
        "\n"
      ],
      "metadata": {
        "id": "tv3JUbafv5mE"
      }
    },
    {
      "cell_type": "markdown",
      "source": [
        "1 + 3 = 4"
      ],
      "metadata": {
        "id": "iTiTuowNyT5V"
      }
    },
    {
      "cell_type": "code",
      "source": [
        "4 * 5 + 2"
      ],
      "metadata": {
        "colab": {
          "base_uri": "https://localhost:8080/"
        },
        "id": "3LdSxdAVt_o2",
        "outputId": "59a2d76b-3d29-45f0-e5c3-613a80135954"
      },
      "execution_count": 3,
      "outputs": [
        {
          "output_type": "execute_result",
          "data": {
            "text/plain": [
              "22"
            ]
          },
          "metadata": {},
          "execution_count": 3
        }
      ]
    },
    {
      "cell_type": "code",
      "source": [
        "minutes = 135\n",
        "hours = minutes/60\n",
        "hours"
      ],
      "metadata": {
        "colab": {
          "base_uri": "https://localhost:8080/"
        },
        "id": "VYMAIuIaybDM",
        "outputId": "43d4096d-37d9-49bb-f870-50bc280503f5"
      },
      "execution_count": 4,
      "outputs": [
        {
          "output_type": "execute_result",
          "data": {
            "text/plain": [
              "2.25"
            ]
          },
          "metadata": {},
          "execution_count": 4
        }
      ]
    },
    {
      "cell_type": "markdown",
      "source": [
        "Objectives of this course:\n",
        "\n",
        "__Module 1: Overview of Data Science Tools__\n",
        "- Describe the components of a Data Scientist's toolkit and list various tool categories\n",
        "\n",
        "- List examples of Open Source, Commercial, and Cloud-based tools in various categories\n",
        "\n",
        "__Module 2: Languages of Data Science__\n",
        "- Identify the criteria and roles for determining the language to learn.\n",
        "- Identify the users and benefits of Python.\n",
        "- Identify the users and uses of the R language.\n",
        "- Define SQL elements and list their benefits.\n",
        "- Review languages such as Java, Scala, C++, JavaScript, and Julia.\n",
        "- List the global communities for connecting with other users.\n",
        "\n",
        "__Module 3: Packages, APIs, Data Sets and Models__\n",
        "\n",
        "- List examples of the various libraries: scientific, visualization, machine learning, and deep learning.\n",
        "- Define REST API to request and respond.\n",
        "- Describe data sets and sources of data.\n",
        "- Explore open data sets on the Data Asset eXchange.\n",
        "- Describe how to use a learning model to solve a problem.\n",
        "- List the tasks that a data scientist needs to perform to build a model.\n",
        "- Explore ML models in the Model Learning eXchange\n",
        "\n",
        "__Module 4: Jupyter Notebooks and JupyterLab__\n",
        "- Describe how to use the notebooks in JupyterLab.\n",
        "-Describe how to work in a notebook session.\n",
        "- Describe the basic Jupyter architecture.\n",
        "- Describe how to work with kernels.\n",
        "- Identify tools in Anaconda Jupyter environments.\n",
        "- Describe cloud-based Jupyter environments and their data science features.\n",
        "\n",
        "__Module 5: RStudio and Github__\n",
        "- Describe R capabilities and RStudio environment.\n",
        "- Use the inbuilt R plot function.\n",
        "- Explain version control and describe the Git and GitHub environment.\n",
        "- Describe the purpose of source repositories and explain how GitHub satisfies the needs of a source repository.\n",
        "- Create a GitHub account and a project repository.\n",
        "- Demonstrate how to edit and upload files in GitHub.\n",
        "- Explain the purpose of branches and how to merge changes."
      ],
      "metadata": {
        "id": "MJOmN80wzPwy"
      }
    },
    {
      "cell_type": "markdown",
      "source": [
        "This course is taught by the following authors:\n",
        "1. Aije Egwaikhide, Senior Data Scientist\n",
        "2. Svetlana Levitan, Senior Developer\n",
        "3. Romeo Kienzler, Chief Data Sccientist, Course Lead"
      ],
      "metadata": {
        "id": "YqekRZHf1X-v"
      }
    },
    {
      "cell_type": "code",
      "source": [],
      "metadata": {
        "id": "_62ktE2Eyh3L"
      },
      "execution_count": null,
      "outputs": []
    }
  ]
}